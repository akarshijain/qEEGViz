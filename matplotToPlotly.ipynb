{
 "cells": [
  {
   "cell_type": "code",
   "execution_count": 1,
   "id": "f9dec72e",
   "metadata": {},
   "outputs": [],
   "source": [
    "import dash\n",
    "from dash import dcc\n",
    "from dash import html\n",
    "from dash.dependencies import Input, Output"
   ]
  },
  {
   "cell_type": "code",
   "execution_count": 2,
   "id": "4d9852d1",
   "metadata": {},
   "outputs": [],
   "source": [
    "%matplotlib inline\n",
    "import matplotlib.pyplot as plt\n",
    "import numpy as np\n",
    "from io import BytesIO\n",
    "import base64"
   ]
  },
  {
   "cell_type": "code",
   "execution_count": 3,
   "id": "0c834aa2",
   "metadata": {},
   "outputs": [],
   "source": [
    "from IPython import display\n",
    "import os\n",
    "def show_app(app, port = 9999, \n",
    "             width = 700, \n",
    "             height = 350, \n",
    "             offline = False,\n",
    "            in_binder = None):\n",
    "    in_binder ='JUPYTERHUB_SERVICE_PREFIX' in os.environ if in_binder is None else in_binder\n",
    "    if in_binder:\n",
    "        base_prefix = '{}proxy/{}/'.format(os.environ['JUPYTERHUB_SERVICE_PREFIX'], port)\n",
    "        url = 'https://hub.mybinder.org{}'.format(base_prefix)\n",
    "        app.config.requests_pathname_prefix = base_prefix\n",
    "    else:\n",
    "        url = 'http://localhost:%d' % port\n",
    "        \n",
    "    iframe = '<a href=\"{url}\" target=\"_new\">Open in new window</a><hr><iframe src=\"{url}\" width={width} height={height}></iframe>'.format(url = url, \n",
    "                                                                                  width = width, \n",
    "                                                                                  height = height)\n",
    "    \n",
    "    display.display_html(iframe, raw = True)\n",
    "    if offline:\n",
    "        app.css.config.serve_locally = True\n",
    "        app.scripts.config.serve_locally = True\n",
    "    return app.run_server(debug=False, # needs to be false in Jupyter\n",
    "                          host = '0.0.0.0',\n",
    "                          port=port)"
   ]
  },
  {
   "cell_type": "code",
   "execution_count": 4,
   "id": "741b8b95",
   "metadata": {},
   "outputs": [],
   "source": [
    "def fig_to_uri(in_fig, close_all=True, **save_args):\n",
    "    # type: (plt.Figure) -> str\n",
    "    \"\"\"\n",
    "    Save a figure as a URI\n",
    "    :param in_fig:\n",
    "    :return:\n",
    "    \"\"\"\n",
    "    out_img = BytesIO()\n",
    "    in_fig.savefig(out_img, format='png', **save_args)\n",
    "    if close_all:\n",
    "        in_fig.clf()\n",
    "        plt.close('all')\n",
    "    out_img.seek(0)  # rewind file\n",
    "    encoded = base64.b64encode(out_img.read()).decode(\"ascii\").replace(\"\\n\", \"\")\n",
    "    return \"data:image/png;base64,{}\".format(encoded)\n",
    "app_iplot = dash.Dash()\n",
    "\n",
    "app_iplot.layout = html.Div([\n",
    "    dcc.Input(id='plot_title', value='Type title...', type=\"text\"),\n",
    "    dcc.Slider(\n",
    "        id='box_size',\n",
    "        min=1,\n",
    "        max=10,\n",
    "        value=4,\n",
    "        step=1,\n",
    "        marks=list(range(0, 10))\n",
    "    ),\n",
    "    html.Div([html.Img(id = 'cur_plot', src = '')],\n",
    "             id='plot_div')\n",
    "])\n",
    "\n",
    "@app_iplot.callback(\n",
    "    Output(component_id='cur_plot', component_property='src'),\n",
    "    [Input(component_id='plot_title', component_property='value'), Input(component_id = 'box_size', component_property='value')]\n",
    ")\n",
    "def update_graph(input_value, n_val):\n",
    "    fig, ax1 = plt.subplots(1,1)\n",
    "    np.random.seed(len(input_value))\n",
    "    ax1.matshow(np.random.uniform(-1,1, size = (n_val,n_val)))\n",
    "    ax1.set_title(input_value)\n",
    "    out_url = fig_to_uri(fig)\n",
    "    return out_url"
   ]
  },
  {
   "cell_type": "code",
   "execution_count": null,
   "id": "b163adc9",
   "metadata": {},
   "outputs": [
    {
     "data": {
      "text/html": [
       "<a href=\"http://localhost:9999\" target=\"_new\">Open in new window</a><hr><iframe src=\"http://localhost:9999\" width=700 height=350></iframe>"
      ]
     },
     "metadata": {},
     "output_type": "display_data"
    },
    {
     "name": "stdout",
     "output_type": "stream",
     "text": [
      "Dash is running on http://0.0.0.0:9999/\n",
      "\n",
      " * Serving Flask app \"__main__\" (lazy loading)\n",
      " * Environment: production\n",
      "\u001b[31m   WARNING: This is a development server. Do not use it in a production deployment.\u001b[0m\n",
      "\u001b[2m   Use a production WSGI server instead.\u001b[0m\n",
      " * Debug mode: off\n"
     ]
    },
    {
     "name": "stderr",
     "output_type": "stream",
     "text": [
      " * Running on all addresses.\n",
      "   WARNING: This is a development server. Do not use it in a production deployment.\n",
      " * Running on http://192.168.4.37:9999/ (Press CTRL+C to quit)\n",
      "127.0.0.1 - - [27/May/2022 11:40:21] \"GET / HTTP/1.1\" 200 -\n",
      "127.0.0.1 - - [27/May/2022 11:40:21] \"GET /_dash-layout HTTP/1.1\" 200 -\n",
      "127.0.0.1 - - [27/May/2022 11:40:21] \"GET /_dash-dependencies HTTP/1.1\" 200 -\n",
      "127.0.0.1 - - [27/May/2022 11:40:22] \"GET /_dash-component-suites/dash/dcc/async-slider.js HTTP/1.1\" 304 -\n",
      "127.0.0.1 - - [27/May/2022 11:40:22] \"POST /_dash-update-component HTTP/1.1\" 200 -\n"
     ]
    }
   ],
   "source": [
    "show_app(app_iplot)"
   ]
  },
  {
   "cell_type": "code",
   "execution_count": null,
   "id": "70e5b023",
   "metadata": {},
   "outputs": [],
   "source": []
  }
 ],
 "metadata": {
  "kernelspec": {
   "display_name": "Python 3 (ipykernel)",
   "language": "python",
   "name": "python3"
  },
  "language_info": {
   "codemirror_mode": {
    "name": "ipython",
    "version": 3
   },
   "file_extension": ".py",
   "mimetype": "text/x-python",
   "name": "python",
   "nbconvert_exporter": "python",
   "pygments_lexer": "ipython3",
   "version": "3.9.12"
  }
 },
 "nbformat": 4,
 "nbformat_minor": 5
}
