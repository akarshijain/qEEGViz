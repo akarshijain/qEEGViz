{
 "cells": [
  {
   "cell_type": "code",
   "execution_count": 1,
   "id": "744fd2f8",
   "metadata": {},
   "outputs": [],
   "source": [
    "import matplotlib.pyplot as plt\n",
    "import numpy as np\n",
    "import mne"
   ]
  },
  {
   "cell_type": "code",
   "execution_count": 2,
   "id": "2b98ff6d",
   "metadata": {
    "scrolled": true
   },
   "outputs": [],
   "source": [
    "import GetICCValues as iccValues\n",
    "import dataFile as getData"
   ]
  },
  {
   "cell_type": "code",
   "execution_count": 3,
   "id": "14f9c41d",
   "metadata": {},
   "outputs": [],
   "source": [
    "REFERENCE_NAME = 'averageReference'\n",
    "FEATURE_NAME = 'AbsolutePowerFeature'\n",
    "FEATURE_LIST = getData.getFeatureList('AbsolutePowerFeature')\n",
    "ELECTRODE_LIST = getData.getElectrodeList()\n",
    "EPOCH_LIST = [4]\n",
    "SUBJECT_LIST = ['sub1.bin', 'sub2.bin']"
   ]
  },
  {
   "cell_type": "code",
   "execution_count": 4,
   "id": "1485757e",
   "metadata": {},
   "outputs": [],
   "source": [
    "numFeature = len(FEATURE_LIST)\n",
    "numElectrode = len(ELECTRODE_LIST)\n",
    "numEpoch = len(EPOCH_LIST)"
   ]
  },
  {
   "cell_type": "code",
   "execution_count": 5,
   "id": "3f40e021",
   "metadata": {},
   "outputs": [],
   "source": [
    "#epoch[featureList[electrodes]]]\n",
    "iccValuesArr = iccValues.getICCValues(SUBJECT_LIST, FEATURE_NAME, REFERENCE_NAME, EPOCH_LIST)"
   ]
  },
  {
   "cell_type": "code",
   "execution_count": 9,
   "id": "b4493194",
   "metadata": {},
   "outputs": [
    {
     "data": {
      "text/plain": [
       "array([[[ 2.54741559e-02,  3.62541990e-01,  1.16295493e-01,\n",
       "          6.63350339e-02,  4.28775940e-01,  1.88111271e-02,\n",
       "         -2.87262493e-03,  4.34548969e-01,  1.09524052e-01,\n",
       "          6.49492594e-02,  1.99697427e-01, -5.04531826e-03,\n",
       "          6.86385976e-01,  4.23594075e-01,  2.50669758e-01,\n",
       "          8.06886235e-01,  3.35177380e-01,  5.83209805e-01,\n",
       "          5.44612664e-01],\n",
       "        [ 5.13573837e-01,  9.30210988e-02,  3.61467542e-01,\n",
       "          1.45765022e-01,  5.02486839e-01,  3.63858470e-01,\n",
       "          2.03389141e-01,  2.84600893e-01,  7.69506367e-02,\n",
       "          4.75560443e-01,  5.36922096e-01,  3.17463762e-01,\n",
       "          3.56643652e-01, -5.98141656e-03,  4.00810080e-05,\n",
       "          2.67559577e-01,  2.03146000e-01,  5.39070380e-01,\n",
       "          5.50872276e-01],\n",
       "        [ 1.13758956e-01,  4.13177709e-03,  1.73823222e-02,\n",
       "          4.37126716e-01,  6.35024351e-03,  1.07481658e-02,\n",
       "         -5.62360257e-03,  5.12013062e-03,  4.39200646e-02,\n",
       "          2.47732284e-01,  3.60841280e-01,  3.86746748e-01,\n",
       "          2.40339025e-02,  4.80392491e-03,  8.49415938e-01,\n",
       "          2.85300493e-01,  4.84439301e-01,  4.96702994e-01,\n",
       "          4.70915476e-02],\n",
       "        [ 2.93439750e-02,  3.11178429e-01,  4.12118067e-01,\n",
       "          1.87400962e-01,  2.69956879e-01,  6.00196418e-02,\n",
       "          1.89012969e-02,  6.28396161e-01,  4.67931689e-02,\n",
       "          5.55251286e-01,  4.83902243e-01,  3.09358968e-02,\n",
       "          2.34058437e-01,  1.64239940e-01,  4.43260378e-01,\n",
       "          6.47008998e-02,  2.26726351e-02,  2.41739501e-01,\n",
       "          4.65617954e-02],\n",
       "        [ 7.98406873e-02, -4.12486416e-03,  1.98459178e-01,\n",
       "          2.75742583e-01,  9.81939058e-02, -5.27296407e-03,\n",
       "          2.46984656e-02,  1.92337945e-01,  5.00336160e-01,\n",
       "          5.46326948e-01,  1.49986297e-02, -3.36153419e-03,\n",
       "          6.96016421e-01,  2.84861184e-01,  1.35001713e-01,\n",
       "          1.86998486e-01,  1.25783604e-01, -4.78973639e-03,\n",
       "          2.04689402e-01],\n",
       "        [ 9.78769377e-02,  5.11807858e-01,  4.71180819e-01,\n",
       "          1.59183281e-01,  1.82717569e-01,  3.02229978e-01,\n",
       "          5.47937273e-01,  5.81632919e-01,  4.29047310e-01,\n",
       "          4.10231527e-01,  1.86169447e-01,  7.31399271e-01,\n",
       "          5.27577666e-01,  4.59920534e-01,  4.64223092e-01,\n",
       "          4.08590478e-02,  1.32434851e-02,  1.07123173e-01,\n",
       "          0.00000000e+00]]])"
      ]
     },
     "execution_count": 9,
     "metadata": {},
     "output_type": "execute_result"
    }
   ],
   "source": [
    "iccValuesArr"
   ]
  },
  {
   "cell_type": "code",
   "execution_count": 10,
   "id": "ddfcc907",
   "metadata": {},
   "outputs": [
    {
     "data": {
      "text/html": [
       "<table class=\"table table-hover table-striped table-sm table-responsive small\">\n",
       "    <tr>\n",
       "        <th>Measurement date</th>\n",
       "        \n",
       "        <td>Unknown</td>\n",
       "        \n",
       "    </tr>\n",
       "    <tr>\n",
       "        <th>Experimenter</th>\n",
       "        \n",
       "        <td>Unknown</td>\n",
       "        \n",
       "    </tr>\n",
       "        <th>Participant</th>\n",
       "        \n",
       "        <td>Unknown</td>\n",
       "        \n",
       "    </tr>\n",
       "    <tr>\n",
       "        <th>Digitized points</th>\n",
       "        \n",
       "        <td>0 points</td>\n",
       "        \n",
       "    </tr>\n",
       "    <tr>\n",
       "        <th>Good channels</th>\n",
       "        <td>19 EEG</td>\n",
       "    </tr>\n",
       "    <tr>\n",
       "        <th>Bad channels</th>\n",
       "        <td>None</td>\n",
       "    </tr>\n",
       "    <tr>\n",
       "        <th>EOG channels</th>\n",
       "        <td>Not available</td>\n",
       "    </tr>\n",
       "    <tr>\n",
       "        <th>ECG channels</th>\n",
       "        <td>Not available</td>\n",
       "    \n",
       "    <tr>\n",
       "        <th>Sampling frequency</th>\n",
       "        <td>250.00 Hz</td>\n",
       "    </tr>\n",
       "    \n",
       "    \n",
       "    <tr>\n",
       "        <th>Highpass</th>\n",
       "        <td>0.00 Hz</td>\n",
       "    </tr>\n",
       "    \n",
       "    \n",
       "    <tr>\n",
       "        <th>Lowpass</th>\n",
       "        <td>125.00 Hz</td>\n",
       "    </tr>\n",
       "    \n",
       "    \n",
       "</table>"
      ],
      "text/plain": [
       "<Info | 8 non-empty values\n",
       " bads: []\n",
       " ch_names: Fp1, Fp2, F3, F4, C3, C4, P3, P4, O1, O2, F7, F8, T3, T4, T5, ...\n",
       " chs: 19 EEG\n",
       " custom_ref_applied: False\n",
       " dig: 22 items (3 Cardinal, 19 EEG)\n",
       " highpass: 0.0 Hz\n",
       " lowpass: 125.0 Hz\n",
       " meas_date: unspecified\n",
       " nchan: 19\n",
       " projs: []\n",
       " sfreq: 250.0 Hz\n",
       ">"
      ]
     },
     "execution_count": 10,
     "metadata": {},
     "output_type": "execute_result"
    }
   ],
   "source": [
    "mneInfo = mne.create_info(ch_names = ELECTRODE_LIST, ch_types = ['eeg'] * numElectrode, sfreq=250)\n",
    "mneInfo.set_montage('standard_1020')"
   ]
  },
  {
   "cell_type": "code",
   "execution_count": 1,
   "id": "a16b3009",
   "metadata": {
    "scrolled": true
   },
   "outputs": [
    {
     "ename": "NameError",
     "evalue": "name 'plt' is not defined",
     "output_type": "error",
     "traceback": [
      "\u001b[0;31m---------------------------------------------------------------------------\u001b[0m",
      "\u001b[0;31mNameError\u001b[0m                                 Traceback (most recent call last)",
      "Input \u001b[0;32mIn [1]\u001b[0m, in \u001b[0;36m<cell line: 1>\u001b[0;34m()\u001b[0m\n\u001b[0;32m----> 1\u001b[0m fig, ax \u001b[38;5;241m=\u001b[39m \u001b[43mplt\u001b[49m\u001b[38;5;241m.\u001b[39msubplots(ncols\u001b[38;5;241m=\u001b[39mnumEpoch, nrows\u001b[38;5;241m=\u001b[39mnumFeature, figsize\u001b[38;5;241m=\u001b[39m(\u001b[38;5;241m100\u001b[39m, \u001b[38;5;241m100\u001b[39m), gridspec_kw\u001b[38;5;241m=\u001b[39m\u001b[38;5;28mdict\u001b[39m(top\u001b[38;5;241m=\u001b[39m\u001b[38;5;241m0.9\u001b[39m),\n\u001b[1;32m      2\u001b[0m                        sharex\u001b[38;5;241m=\u001b[39m\u001b[38;5;28;01mTrue\u001b[39;00m, sharey\u001b[38;5;241m=\u001b[39m\u001b[38;5;28;01mTrue\u001b[39;00m)\n\u001b[1;32m      4\u001b[0m mne\u001b[38;5;241m.\u001b[39mviz\u001b[38;5;241m.\u001b[39mplot_topomap(fake_evoked\u001b[38;5;241m.\u001b[39mdata[:, \u001b[38;5;241m0\u001b[39m], fake_evoked\u001b[38;5;241m.\u001b[39minfo, axes\u001b[38;5;241m=\u001b[39max[\u001b[38;5;241m0\u001b[39m],\n\u001b[1;32m      5\u001b[0m                      show\u001b[38;5;241m=\u001b[39m\u001b[38;5;28;01mFalse\u001b[39;00m)\n\u001b[1;32m      7\u001b[0m \u001b[38;5;28;01mfor\u001b[39;00m epoch \u001b[38;5;129;01min\u001b[39;00m \u001b[38;5;28mrange\u001b[39m(\u001b[38;5;241m0\u001b[39m, numEpoch):\n",
      "\u001b[0;31mNameError\u001b[0m: name 'plt' is not defined"
     ]
    }
   ],
   "source": [
    "fig, ax = plt.subplots(ncols=numEpoch, nrows=numFeature, figsize=(100, 100), gridspec_kw=dict(top=0.9),\n",
    "                       sharex=True, sharey=True)\n",
    "\n",
    "mne.viz.plot_topomap(fake_evoked.data[:, 0], fake_evoked.info, axes=ax[0],\n",
    "                     show=False)\n",
    "\n",
    "for epoch in range(0, numEpoch):\n",
    "    epoch_num = EPOCH_LIST[epoch]\n",
    "    for feature in range(0, numFeature):\n",
    "        feature_name = FEATURE_LIST[feature]\n",
    "        dataToPlot = iccValuesArr[epoch][feature]\n",
    "        mne.viz.plot_topomap(fake_evoked.data[:, 0], fake_evoked.info, axes=ax[0],\n",
    "                     show=False)\n",
    "        #mne.viz.plot_topomap(dataToPlot, mneInfo, axes = ax[feature][epoch], show = False)\n",
    "        #ax[feature][epoch].set_title([feature_name, epoch_num], fontweight='bold', fontsize=64)"
   ]
  },
  {
   "cell_type": "code",
   "execution_count": null,
   "id": "7945ed96",
   "metadata": {},
   "outputs": [],
   "source": []
  }
 ],
 "metadata": {
  "kernelspec": {
   "display_name": "Python 3 (ipykernel)",
   "language": "python",
   "name": "python3"
  },
  "language_info": {
   "codemirror_mode": {
    "name": "ipython",
    "version": 3
   },
   "file_extension": ".py",
   "mimetype": "text/x-python",
   "name": "python",
   "nbconvert_exporter": "python",
   "pygments_lexer": "ipython3",
   "version": "3.9.12"
  }
 },
 "nbformat": 4,
 "nbformat_minor": 5
}
