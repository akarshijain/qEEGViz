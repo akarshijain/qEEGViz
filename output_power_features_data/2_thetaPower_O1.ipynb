{
 "cells": [
  {
   "cell_type": "code",
   "execution_count": 1,
   "id": "b6021186",
   "metadata": {},
   "outputs": [],
   "source": [
    "import numpy as np"
   ]
  },
  {
   "cell_type": "code",
   "execution_count": 2,
   "id": "d2636a78",
   "metadata": {},
   "outputs": [],
   "source": [
    "import pandas as pd "
   ]
  },
  {
   "cell_type": "code",
   "execution_count": 3,
   "id": "5edabccb",
   "metadata": {},
   "outputs": [],
   "source": [
    "from MatlabBinFileReader import MatlabBinFileReader\n",
    "matlabBinFileReader = MatlabBinFileReader()"
   ]
  },
  {
   "cell_type": "code",
   "execution_count": 4,
   "id": "e401cc45",
   "metadata": {},
   "outputs": [],
   "source": [
    "from EEGReReferencer import EEGReReferencer\n",
    "eegReReferencer = EEGReReferencer()"
   ]
  },
  {
   "cell_type": "code",
   "execution_count": 5,
   "id": "0334a993",
   "metadata": {},
   "outputs": [],
   "source": [
    "from GenerateEpochs import GenerateEpochs\n",
    "generateEpochs = GenerateEpochs()"
   ]
  },
  {
   "cell_type": "code",
   "execution_count": 6,
   "id": "2a953564",
   "metadata": {},
   "outputs": [],
   "source": [
    "from AbsolutePowerFeatures import AbsolutePowerFeatures\n",
    "absolutePowerFeatures = AbsolutePowerFeatures()"
   ]
  },
  {
   "cell_type": "code",
   "execution_count": 7,
   "id": "e795f9e3",
   "metadata": {},
   "outputs": [],
   "source": [
    "from GenerateICC import GenerateICC"
   ]
  },
  {
   "cell_type": "code",
   "execution_count": 8,
   "id": "96d0bb48",
   "metadata": {},
   "outputs": [],
   "source": [
    "SUBJECTS_LIST = ['sub1', 'sub2', 'sub3', 'sub4', 'sub5', 'sub6', 'sub7', 'sub8', 'sub9', 'sub10']\n",
    "numSubjects = len(SUBJECTS_LIST)\n",
    "sampleRate = matlabBinFileReader.getSampleRate()"
   ]
  },
  {
   "cell_type": "code",
   "execution_count": 9,
   "id": "41bf8660",
   "metadata": {},
   "outputs": [],
   "source": [
    "ELECTRODE_NAME = 'O1'\n",
    "FEATURE_NAME = 'thetaPower'\n",
    "EPOCHS = 2"
   ]
  },
  {
   "cell_type": "code",
   "execution_count": 10,
   "id": "4173b132",
   "metadata": {},
   "outputs": [],
   "source": [
    "allSubjectsSignalsDict = {}\n",
    "for subject in SUBJECTS_LIST:\n",
    "    allSubjectsSignalsDict[subject] = matlabBinFileReader.loadSignals(f'{subject}.bin')"
   ]
  },
  {
   "cell_type": "code",
   "execution_count": 11,
   "id": "8016aa94",
   "metadata": {},
   "outputs": [],
   "source": [
    "allSubjectsAvgSignalsDict = {}\n",
    "for subject in allSubjectsSignalsDict:\n",
    "    allSubjectsAvgSignalsDict[subject] = eegReReferencer.convertToAvgReference(allSubjectsSignalsDict[subject])"
   ]
  },
  {
   "cell_type": "code",
   "execution_count": 12,
   "id": "847952bf",
   "metadata": {},
   "outputs": [],
   "source": [
    "avgSignals = {}\n",
    "for subject in allSubjectsAvgSignalsDict:\n",
    "    avgSignals[subject] = {}\n",
    "    avgSignals[subject][ELECTRODE_NAME] = allSubjectsAvgSignalsDict[subject][ELECTRODE_NAME]"
   ]
  },
  {
   "cell_type": "code",
   "execution_count": 13,
   "id": "a6ecbdf6",
   "metadata": {},
   "outputs": [],
   "source": [
    "numSamples = np.zeros(len(SUBJECTS_LIST))\n",
    "for idx in range(0, len(SUBJECTS_LIST)):\n",
    "    subject = SUBJECTS_LIST[idx]\n",
    "    numSamples[idx] = len(avgSignals[subject][ELECTRODE_NAME])\n",
    "numSamples = int(min(numSamples))"
   ]
  },
  {
   "cell_type": "code",
   "execution_count": 14,
   "id": "f2a7bfc9",
   "metadata": {},
   "outputs": [],
   "source": [
    "for subject in avgSignals:\n",
    "    avgSignals[subject][ELECTRODE_NAME] = np.resize(avgSignals[subject][ELECTRODE_NAME], numSamples)"
   ]
  },
  {
   "cell_type": "code",
   "execution_count": 15,
   "id": "ba7039ae",
   "metadata": {},
   "outputs": [],
   "source": [
    "stepSize = EPOCHS * sampleRate\n",
    "epochsArr = generateEpochs.generateEpochs(EPOCHS, numSamples, sampleRate, stepSize)\n",
    "numSessions = len(epochsArr)"
   ]
  },
  {
   "cell_type": "code",
   "execution_count": 16,
   "id": "76789d41",
   "metadata": {},
   "outputs": [],
   "source": [
    "featuresAtEachEpochDict = {}\n",
    "for subject in avgSignals:\n",
    "    featuresAtEachEpochDict[subject] = absolutePowerFeatures.getFeatures(avgSignals[subject], epochsArr, FEATURE_NAME, ELECTRODE_NAME, sampleRate)"
   ]
  },
  {
   "cell_type": "code",
   "execution_count": 17,
   "id": "b87de1e6",
   "metadata": {},
   "outputs": [],
   "source": [
    "icc = GenerateICC(featuresAtEachEpochDict)"
   ]
  },
  {
   "cell_type": "code",
   "execution_count": 18,
   "id": "9d4ec15d",
   "metadata": {},
   "outputs": [
    {
     "data": {
      "text/plain": [
       "1794924824764849.8"
      ]
     },
     "execution_count": 18,
     "metadata": {},
     "output_type": "execute_result"
    }
   ],
   "source": [
    "icc._generateMSP()"
   ]
  },
  {
   "cell_type": "code",
   "execution_count": 19,
   "id": "e71a7695",
   "metadata": {},
   "outputs": [
    {
     "data": {
      "text/plain": [
       "5743483441909.905"
      ]
     },
     "execution_count": 19,
     "metadata": {},
     "output_type": "execute_result"
    }
   ],
   "source": [
    "icc._generateMSE()"
   ]
  },
  {
   "cell_type": "code",
   "execution_count": 20,
   "id": "a1a37bc3",
   "metadata": {
    "scrolled": true
   },
   "outputs": [
    {
     "data": {
      "text/plain": [
       "0.5028369101461665"
      ]
     },
     "execution_count": 20,
     "metadata": {},
     "output_type": "execute_result"
    }
   ],
   "source": [
    "icc.generateICC()"
   ]
  },
  {
   "cell_type": "code",
   "execution_count": 22,
   "id": "38154b22",
   "metadata": {},
   "outputs": [],
   "source": [
    "# df = pd.DataFrame(data=featuresAtEachEpochDict)\n",
    "# df.to_excel('testCase5.xlsx')"
   ]
  },
  {
   "cell_type": "code",
   "execution_count": 37,
   "id": "e5d9b7a7",
   "metadata": {},
   "outputs": [],
   "source": [
    "# array = np.zeros(shape=(10, 308))\n",
    "# for idx in range(0,len(SUBJECTS_LIST)):\n",
    "#     for value in range(0, 308):\n",
    "#         subject = SUBJECTS_LIST[idx]\n",
    "#         array[idx][value] = featuresAtEachEpochDict[subject][value]"
   ]
  },
  {
   "cell_type": "code",
   "execution_count": 21,
   "id": "31efec5a",
   "metadata": {},
   "outputs": [],
   "source": [
    "# df = pd.DataFrame (array)\n",
    "# filepath = 'o1_thetaPower.xlsx'\n",
    "# df.to_excel(filepath, index=False)"
   ]
  },
  {
   "cell_type": "code",
   "execution_count": 44,
   "id": "cf15b3ad",
   "metadata": {},
   "outputs": [],
   "source": [
    "hsgs = np.empty(0)"
   ]
  },
  {
   "cell_type": "code",
   "execution_count": 47,
   "id": "363385f9",
   "metadata": {},
   "outputs": [],
   "source": [
    "hsgs = np.append(hsgs, 10)"
   ]
  },
  {
   "cell_type": "code",
   "execution_count": 48,
   "id": "1fa2fa59",
   "metadata": {},
   "outputs": [
    {
     "data": {
      "text/plain": [
       "array([10.])"
      ]
     },
     "execution_count": 48,
     "metadata": {},
     "output_type": "execute_result"
    }
   ],
   "source": [
    "hsgs"
   ]
  }
 ],
 "metadata": {
  "kernelspec": {
   "display_name": "Python 3",
   "language": "python",
   "name": "python3"
  },
  "language_info": {
   "codemirror_mode": {
    "name": "ipython",
    "version": 3
   },
   "file_extension": ".py",
   "mimetype": "text/x-python",
   "name": "python",
   "nbconvert_exporter": "python",
   "pygments_lexer": "ipython3",
   "version": "3.8.8"
  }
 },
 "nbformat": 4,
 "nbformat_minor": 5
}
