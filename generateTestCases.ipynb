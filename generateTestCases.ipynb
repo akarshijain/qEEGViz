{
 "cells": [
  {
   "cell_type": "code",
   "execution_count": 1,
   "id": "e0914db8",
   "metadata": {},
   "outputs": [],
   "source": [
    "import numpy as np"
   ]
  },
  {
   "cell_type": "code",
   "execution_count": 2,
   "id": "6b013b8b",
   "metadata": {},
   "outputs": [],
   "source": [
    "import pandas as pd"
   ]
  },
  {
   "cell_type": "code",
   "execution_count": 3,
   "id": "e795f9e3",
   "metadata": {},
   "outputs": [],
   "source": [
    "from GenerateICC import GenerateICC"
   ]
  },
  {
   "cell_type": "code",
   "execution_count": 4,
   "id": "1e375e07",
   "metadata": {},
   "outputs": [],
   "source": [
    "import random"
   ]
  },
  {
   "cell_type": "code",
   "execution_count": 5,
   "id": "ba807baf",
   "metadata": {},
   "outputs": [],
   "source": [
    "def display(objectName):\n",
    "    print('MSp = ', objectName._generateMSP())\n",
    "    print('MSe = ', objectName._generateMSE())\n",
    "    print('ICC = ', objectName.generateICC())"
   ]
  },
  {
   "cell_type": "code",
   "execution_count": 6,
   "id": "cf983179",
   "metadata": {},
   "outputs": [],
   "source": [
    "def save_to_excel(testCaseDict, filename):\n",
    "    df = pd.DataFrame(data=testCaseDict)\n",
    "    df.to_excel(f'{filename}.xlsx')"
   ]
  },
  {
   "cell_type": "code",
   "execution_count": 7,
   "id": "4b955a8d",
   "metadata": {},
   "outputs": [],
   "source": [
    "SUBJECTS_LIST = ['sub1', 'sub2', 'sub3', 'sub4', 'sub5', 'sub6', 'sub7', 'sub8', 'sub9', 'sub10', 'sub 11', 'sub12']\n",
    "numSubjects = len(SUBJECTS_LIST)\n",
    "numSessions = 100"
   ]
  },
  {
   "cell_type": "markdown",
   "id": "3a0a8d3e",
   "metadata": {},
   "source": [
    "#### Test Case 1: msp ~ mse"
   ]
  },
  {
   "cell_type": "code",
   "execution_count": 75,
   "id": "c653ef54",
   "metadata": {},
   "outputs": [],
   "source": [
    "testCase1_dict = {}"
   ]
  },
  {
   "cell_type": "code",
   "execution_count": 76,
   "id": "382a4a8a",
   "metadata": {},
   "outputs": [],
   "source": [
    "mu, sigma = 100, 100000\n",
    "for subject in SUBJECTS_LIST:\n",
    "    testCase1_dict[subject] = np.random.normal(mu, sigma, numSessions)\n",
    "    mu += 0.5"
   ]
  },
  {
   "cell_type": "code",
   "execution_count": 77,
   "id": "b87de1e6",
   "metadata": {},
   "outputs": [],
   "source": [
    "testCase1 = GenerateICC(testCase1_dict, SUBJECTS_LIST, numSubjects, numSessions)"
   ]
  },
  {
   "cell_type": "code",
   "execution_count": 78,
   "id": "a1a37bc3",
   "metadata": {
    "scrolled": true
   },
   "outputs": [
    {
     "name": "stdout",
     "output_type": "stream",
     "text": [
      "MSp =  13141247002.05281\n",
      "MSe =  11119948976.674952\n",
      "ICC =  0.0018144242724592468\n"
     ]
    }
   ],
   "source": [
    "display(testCase1)"
   ]
  },
  {
   "cell_type": "code",
   "execution_count": 88,
   "id": "f7597726",
   "metadata": {},
   "outputs": [],
   "source": [
    "save_to_excel(testCase1_dict, 'testCase1')"
   ]
  },
  {
   "cell_type": "markdown",
   "id": "5cfe50f9",
   "metadata": {},
   "source": [
    "#### Test Case 2: msp < mse"
   ]
  },
  {
   "cell_type": "code",
   "execution_count": 89,
   "id": "1c8ed59d",
   "metadata": {},
   "outputs": [],
   "source": [
    "testCase2_dict = {}"
   ]
  },
  {
   "cell_type": "code",
   "execution_count": 128,
   "id": "74f9c1a1",
   "metadata": {},
   "outputs": [],
   "source": [
    "mu, sigma = 100, 500000\n",
    "for subject in SUBJECTS_LIST:\n",
    "    testCase2_dict[subject] = np.random.normal(mu, sigma, numSessions)\n",
    "    mu += 0.00005"
   ]
  },
  {
   "cell_type": "code",
   "execution_count": 129,
   "id": "5e257d96",
   "metadata": {},
   "outputs": [],
   "source": [
    "testCase2 = GenerateICC(testCase2_dict, SUBJECTS_LIST, numSubjects, numSessions)"
   ]
  },
  {
   "cell_type": "code",
   "execution_count": 130,
   "id": "88e7a495",
   "metadata": {},
   "outputs": [
    {
     "name": "stdout",
     "output_type": "stream",
     "text": [
      "MSp =  223816297772.97586\n",
      "MSe =  250245543508.805\n",
      "ICC =  -0.001057249118670501\n"
     ]
    }
   ],
   "source": [
    "display(testCase2)"
   ]
  },
  {
   "cell_type": "code",
   "execution_count": 118,
   "id": "2a4aad21",
   "metadata": {},
   "outputs": [],
   "source": [
    "save_to_excel(testCase2_dict, 'testCase2')"
   ]
  },
  {
   "cell_type": "markdown",
   "id": "dd7d0a7f",
   "metadata": {},
   "source": [
    "#### Test Case 3: msp >> mse"
   ]
  },
  {
   "cell_type": "code",
   "execution_count": 131,
   "id": "79c46009",
   "metadata": {},
   "outputs": [],
   "source": [
    "testCase3_dict = {}"
   ]
  },
  {
   "cell_type": "code",
   "execution_count": 132,
   "id": "e60a00b4",
   "metadata": {},
   "outputs": [],
   "source": [
    "mu, sigma = 100, 10\n",
    "for subject in SUBJECTS_LIST:\n",
    "    testCase3_dict[subject] = np.random.normal(mu, sigma, numSessions)\n",
    "    mu += 500"
   ]
  },
  {
   "cell_type": "code",
   "execution_count": 133,
   "id": "a3ea7fc7",
   "metadata": {},
   "outputs": [],
   "source": [
    "testCase3 = GenerateICC(testCase3_dict, SUBJECTS_LIST, numSubjects, numSessions)"
   ]
  },
  {
   "cell_type": "code",
   "execution_count": 134,
   "id": "174e12d7",
   "metadata": {},
   "outputs": [
    {
     "name": "stdout",
     "output_type": "stream",
     "text": [
      "MSp =  325080539.92626303\n",
      "MSe =  110.70951714161959\n",
      "ICC =  0.9999659451209632\n"
     ]
    }
   ],
   "source": [
    "display(testCase3)"
   ]
  },
  {
   "cell_type": "code",
   "execution_count": 135,
   "id": "7e42efad",
   "metadata": {},
   "outputs": [],
   "source": [
    "save_to_excel(testCase3_dict, 'testCase3')"
   ]
  },
  {
   "cell_type": "markdown",
   "id": "ebc985b6",
   "metadata": {},
   "source": [
    "#### Test Case 4: msp << mse"
   ]
  },
  {
   "cell_type": "code",
   "execution_count": 210,
   "id": "404fba58",
   "metadata": {},
   "outputs": [],
   "source": [
    "testCase4_dict = {}"
   ]
  },
  {
   "cell_type": "code",
   "execution_count": 211,
   "id": "22e06907",
   "metadata": {},
   "outputs": [],
   "source": [
    "mu, sigma = 0, 100000\n",
    "for subject in SUBJECTS_LIST:\n",
    "    testCase4_dict[subject] = np.random.normal(mu, sigma, numSessions)\n",
    "    mu += 0.0001"
   ]
  },
  {
   "cell_type": "code",
   "execution_count": 212,
   "id": "316e94b0",
   "metadata": {},
   "outputs": [],
   "source": [
    "testCase4 = GenerateICC(testCase4_dict, SUBJECTS_LIST, numSubjects, numSessions)"
   ]
  },
  {
   "cell_type": "code",
   "execution_count": 213,
   "id": "16a26345",
   "metadata": {},
   "outputs": [
    {
     "name": "stdout",
     "output_type": "stream",
     "text": [
      "MSp =  5283764807.470439\n",
      "MSe =  11134798314.389107\n",
      "ICC =  -0.0052824858994664015\n"
     ]
    }
   ],
   "source": [
    "display(testCase4)"
   ]
  },
  {
   "cell_type": "code",
   "execution_count": 214,
   "id": "33c6abc4",
   "metadata": {},
   "outputs": [],
   "source": [
    "save_to_excel(testCase4_dict, 'testCase4')"
   ]
  }
 ],
 "metadata": {
  "kernelspec": {
   "display_name": "Python 3",
   "language": "python",
   "name": "python3"
  },
  "language_info": {
   "codemirror_mode": {
    "name": "ipython",
    "version": 3
   },
   "file_extension": ".py",
   "mimetype": "text/x-python",
   "name": "python",
   "nbconvert_exporter": "python",
   "pygments_lexer": "ipython3",
   "version": "3.8.8"
  }
 },
 "nbformat": 4,
 "nbformat_minor": 5
}
